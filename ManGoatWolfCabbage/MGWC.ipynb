{
 "cells": [
  {
   "cell_type": "code",
   "execution_count": 67,
   "metadata": {},
   "outputs": [
    {
     "name": "stdout",
     "output_type": "stream",
     "text": [
      "______________________________________\n",
      "River Bank A  \n",
      "M\n",
      "G\n",
      "C\n",
      "W\n",
      "______________________________________\n",
      "Boat A  \n",
      "None\n",
      "None\n",
      "______________________________________\n",
      "River Bank B  \n",
      "None\n",
      "None\n",
      "None\n",
      "None\n",
      "______________________________________\n"
     ]
    }
   ],
   "source": [
    "import numpy as np\n",
    "desig=\"______________________________________\"\n",
    "A=np.array(['M','G','C','W'])\n",
    "C=np.array([None,None])\n",
    "B=np.array([None,None,None,None])\n",
    "print(desig)\n",
    "print(\"River Bank A  \")\n",
    "for i in A:\n",
    "  print(i)\n",
    "print(desig)\n",
    "print(\"Boat  \")\n",
    "for i in C:\n",
    "  print(i)\n",
    "print(desig)\n",
    "print(\"River Bank B  \")\n",
    "for i in B:\n",
    "  print(i)\n",
    "print(desig)"
   ]
  },
  {
   "cell_type": "code",
   "execution_count": 71,
   "metadata": {},
   "outputs": [
    {
     "name": "stdout",
     "output_type": "stream",
     "text": [
      "Enter the character into the boat  \n",
      "______________________________________\n",
      "Boat is filled with good pair\n",
      "M , G -> B\n"
     ]
    }
   ],
   "source": [
    "\n",
    "print(\"Enter the character into the boat  \")\n",
    "C[0]=input()\n",
    "C[1]=input()\n",
    "print(desig)\n",
    "#print(\"Things present in the boat\")\n",
    "#print(C)\n",
    "if C[0]==A[0] and C[1]==A[1]:\n",
    "  print(\"Boat is filled with good pair\")\n",
    "  print(\"M , G -> B\")\n",
    "\n",
    "else :\n",
    "  print(\"Pair is wrong\")\n",
    "  print(\"try again\")"
   ]
  },
  {
   "cell_type": "code",
   "execution_count": 72,
   "metadata": {},
   "outputs": [
    {
     "name": "stdout",
     "output_type": "stream",
     "text": [
      "______________________________________\n",
      "Things present in River bank B\n",
      "Boat :\n",
      "M\n",
      "G\n",
      "None\n",
      "None\n"
     ]
    }
   ],
   "source": [
    "print(desig)\n",
    "print(\"Things present in River bank B\")\n",
    "B[0]=C[0]\n",
    "B[1]=C[1]\n",
    "print(\"Boat :\")\n",
    "for i in B:\n",
    "  print(i)"
   ]
  },
  {
   "cell_type": "code",
   "execution_count": 73,
   "metadata": {},
   "outputs": [
    {
     "name": "stdout",
     "output_type": "stream",
     "text": [
      "______________________________________\n",
      "Whom will you send back now ?\n",
      "Enter the character into the boat !\n",
      "______________________________________\n",
      "Correct pair this would be good !!! \n",
      "______________________________________\n",
      "try pairs until you get a good pairs\n"
     ]
    }
   ],
   "source": [
    "#Here the boat is empty as the two pasengers have been reached the river bank B \n",
    "#So now the  boat becomes empty\n",
    "C=np.array([None,None])\n",
    "print(desig)\n",
    "print(\"Whom will you send back now ?\")\n",
    "print(\"Enter the character into the boat !\")\n",
    "C[0]=input()\n",
    "C[1]=input() or None\n",
    "\n",
    "if C[0]=='M'and C[1]==None:\n",
    "  print(desig)\n",
    "  print(\"Correct pair this would be good !!! \")\n",
    "else:\n",
    "  print(\"Empty boat or boat without man cannot be driven :(\")\n",
    "print(desig)\n",
    "print(\"try pairs until you get a good pairs\")"
   ]
  },
  {
   "cell_type": "code",
   "execution_count": 74,
   "metadata": {},
   "outputs": [
    {
     "name": "stdout",
     "output_type": "stream",
     "text": [
      "______________________________________\n",
      " Now the one who sending back are \n",
      " Boat A  \n",
      "M\n",
      "None\n",
      "______________________________________\n",
      "M -> B\n"
     ]
    }
   ],
   "source": [
    "#now the boat goes back to the river Bank A\n",
    "print(desig)\n",
    "print(\" Now the one who sending back are \")\n",
    "print(\" Boat A  \")\n",
    "for i in C:\n",
    "  print(i)\n",
    "print(desig)\n",
    "print(\"M -> B\")\n"
   ]
  },
  {
   "cell_type": "code",
   "execution_count": 75,
   "metadata": {},
   "outputs": [
    {
     "name": "stdout",
     "output_type": "stream",
     "text": [
      "Enter the character into the boat  \n",
      "______________________________________\n",
      "Things present in the boat\n",
      "['M' 'W']\n",
      "Boat is filled with good pair\n",
      "M , W -> B\n"
     ]
    }
   ],
   "source": [
    "print(\"Enter the character into the boat  \")\n",
    "C[0]=input()\n",
    "C[1]=input()\n",
    "print(desig)\n",
    "print(\"Things present in the boat\")\n",
    "print(C)\n",
    "if C[0]==A[0] and C[1]==A[3]:\n",
    "  print(\"Boat is filled with good pair\")\n",
    "  print(\"M , W -> B\")\n",
    "\n",
    "else :\n",
    "  print(\"Pair is wrong\")"
   ]
  },
  {
   "cell_type": "code",
   "execution_count": 76,
   "metadata": {},
   "outputs": [
    {
     "name": "stdout",
     "output_type": "stream",
     "text": [
      "______________________________________\n",
      "Things present in River bank B\n",
      "Boat :\n",
      "M\n",
      "G\n",
      "None\n",
      "W\n"
     ]
    }
   ],
   "source": [
    "print(desig)\n",
    "print(\"Things present in River bank B\")\n",
    "B[0]=C[0]\n",
    "B[3]=C[1]\n",
    "print(\"Boat :\")\n",
    "for i in B:\n",
    "  print(i)\n"
   ]
  },
  {
   "cell_type": "code",
   "execution_count": 77,
   "metadata": {},
   "outputs": [
    {
     "name": "stdout",
     "output_type": "stream",
     "text": [
      "______________________________________\n",
      "Whom will you send back now ?\n",
      "Enter the character into the boat !\n",
      "______________________________________\n",
      "Correct pair this would be good !!! \n",
      "______________________________________\n",
      "try pairs until you get a good pairs\n"
     ]
    }
   ],
   "source": [
    "#Here the boat is empty as the two pasengers have been reached the river bank B \n",
    "#So now the  boat becomes empty\n",
    "C=np.array([None,None])\n",
    "print(desig)\n",
    "print(\"Whom will you send back now ?\")\n",
    "print(\"Enter the character into the boat !\")\n",
    "C[0]=input()\n",
    "C[1]=input() or None\n",
    "\n",
    "if C[0]=='M'and C[1]=='G':\n",
    "  print(desig)\n",
    "  print(\"Correct pair this would be good !!! \")\n",
    "else:\n",
    "  print(\"Empty boat or boat without man cannot be driven :(\")\n",
    "print(desig)\n",
    "print(\"try pairs until you get a good pairs\")"
   ]
  },
  {
   "cell_type": "code",
   "execution_count": 78,
   "metadata": {},
   "outputs": [
    {
     "name": "stdout",
     "output_type": "stream",
     "text": [
      "______________________________________\n",
      " Now the one who sending back are \n",
      " Boat A  \n",
      "M\n",
      "G\n",
      "______________________________________\n",
      "M , G-> B\n"
     ]
    }
   ],
   "source": [
    "#now the boat goes back to the river Bank A\n",
    "print(desig)\n",
    "print(\" Now the one who sending back are \")\n",
    "print(\" Boat A  \")\n",
    "for i in C:\n",
    "  print(i)\n",
    "print(desig)\n",
    "print(\"M , G-> B\")\n"
   ]
  },
  {
   "cell_type": "code",
   "execution_count": 79,
   "metadata": {},
   "outputs": [
    {
     "name": "stdout",
     "output_type": "stream",
     "text": [
      "______________________________________\n",
      "Things present in River bank B\n",
      "Boat :\n",
      "None\n",
      "None\n",
      "None\n",
      "W\n"
     ]
    }
   ],
   "source": [
    "print(desig)\n",
    "print(\"Things present in River bank B\")\n",
    "B[0]=None\n",
    "B[1]=None\n",
    "print(\"Boat :\")\n",
    "for i in B:\n",
    "  print(i)\n"
   ]
  },
  {
   "cell_type": "code",
   "execution_count": 80,
   "metadata": {},
   "outputs": [
    {
     "name": "stdout",
     "output_type": "stream",
     "text": [
      "Enter the character into the boat  \n",
      "______________________________________\n",
      "Things present in the boat\n",
      "['M' 'C']\n",
      "Boat is filled with good pair\n",
      "M , C -> B\n"
     ]
    }
   ],
   "source": [
    "print(\"Enter the character into the boat  \")\n",
    "C[0]=input()\n",
    "C[1]=input()\n",
    "print(desig)\n",
    "print(\"Things present in the boat\")\n",
    "print(C)\n",
    "if C[0]==A[0] and C[1]==A[2]:\n",
    "  print(\"Boat is filled with good pair\")\n",
    "  print(\"M , C -> B\")\n",
    "\n",
    "else :\n",
    "  print(\"Pair is wrong\")"
   ]
  },
  {
   "cell_type": "code",
   "execution_count": 81,
   "metadata": {},
   "outputs": [
    {
     "name": "stdout",
     "output_type": "stream",
     "text": [
      "______________________________________\n",
      "Things present in River bank B\n",
      "Boat :\n",
      "M\n",
      "None\n",
      "C\n",
      "W\n"
     ]
    }
   ],
   "source": [
    "print(desig)\n",
    "print(\"Things present in River bank B\")\n",
    "B[0]=C[0]\n",
    "B[2]=C[1]\n",
    "print(\"Boat :\")\n",
    "for i in B:\n",
    "  print(i)\n"
   ]
  },
  {
   "cell_type": "code",
   "execution_count": 82,
   "metadata": {},
   "outputs": [
    {
     "name": "stdout",
     "output_type": "stream",
     "text": [
      "______________________________________\n",
      "Whom will you send back now ?\n",
      "Enter the character into the boat !\n",
      "______________________________________\n",
      "Correct pair this would be good !!! \n",
      "______________________________________\n",
      "try pairs until you get a good pairs\n"
     ]
    }
   ],
   "source": [
    "#Here the boat is empty as the two pasengers have been reached the river bank B \n",
    "#So now the  boat becomes empty\n",
    "C=np.array([None,None])\n",
    "print(desig)\n",
    "print(\"Whom will you send back now ?\")\n",
    "print(\"Enter the character into the boat !\")\n",
    "C[0]=input()\n",
    "C[1]=input() or None\n",
    "\n",
    "if C[0]=='M'and C[1]==None:\n",
    "  print(desig)\n",
    "  print(\"Correct pair this would be good !!! \")\n",
    "else:\n",
    "  print(\"Empty boat or boat without man cannot be driven :(\")\n",
    "print(desig)\n",
    "print(\"try pairs until you get a good pairs\")"
   ]
  },
  {
   "cell_type": "code",
   "execution_count": 83,
   "metadata": {},
   "outputs": [
    {
     "name": "stdout",
     "output_type": "stream",
     "text": [
      "Enter the character into the boat  \n",
      "______________________________________\n",
      "Things present in the boat\n",
      "['M' 'G']\n",
      "Boat is filled with good pair\n",
      "M , G -> B\n"
     ]
    }
   ],
   "source": [
    "\n",
    "print(\"Enter the character into the boat  \")\n",
    "C[0]=input()\n",
    "C[1]=input()\n",
    "print(desig)\n",
    "print(\"Things present in the boat\")\n",
    "print(C)\n",
    "if C[0]==A[0] and C[1]==A[1]:\n",
    "  print(\"Boat is filled with good pair\")\n",
    "  print(\"M , G -> B\")\n",
    "\n",
    "else :\n",
    "  print(\"Pair is wrong\")"
   ]
  },
  {
   "cell_type": "code",
   "execution_count": 84,
   "metadata": {},
   "outputs": [
    {
     "name": "stdout",
     "output_type": "stream",
     "text": [
      "______________________________________\n",
      "Things present in River bank B\n",
      "Boat :\n",
      "M\n",
      "G\n",
      "C\n",
      "W\n"
     ]
    }
   ],
   "source": [
    "print(desig)\n",
    "print(\"Things present in River bank B\")\n",
    "B[0]=C[0]\n",
    "B[1]=C[1]\n",
    "print(\"Boat :\")\n",
    "for i in B:\n",
    "  print(i)"
   ]
  },
  {
   "cell_type": "code",
   "execution_count": 85,
   "metadata": {},
   "outputs": [
    {
     "name": "stdout",
     "output_type": "stream",
     "text": [
      "So finally the Problem has been solved succesfully using python\n"
     ]
    }
   ],
   "source": [
    "if np.array_equal(A, B):\n",
    "    print(\"So finally the Problem has been solved succesfully using python\")\n",
    "else:\n",
    "    print(\"try again from the beginning the Answer was wrong\")"
   ]
  }
 ],
 "metadata": {
  "kernelspec": {
   "display_name": "Python 3",
   "language": "python",
   "name": "python3"
  },
  "language_info": {
   "codemirror_mode": {
    "name": "ipython",
    "version": 3
   },
   "file_extension": ".py",
   "mimetype": "text/x-python",
   "name": "python",
   "nbconvert_exporter": "python",
   "pygments_lexer": "ipython3",
   "version": "3.10.11"
  }
 },
 "nbformat": 4,
 "nbformat_minor": 2
}
